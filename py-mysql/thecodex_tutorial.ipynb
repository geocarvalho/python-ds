{
 "cells": [
  {
   "cell_type": "code",
   "execution_count": 1,
   "metadata": {},
   "outputs": [],
   "source": [
    "# !pip install mysql-connector-python\n",
    "# mysql -u root -p\n",
    "\n",
    "import mysql.connector"
   ]
  },
  {
   "cell_type": "code",
   "execution_count": 2,
   "metadata": {},
   "outputs": [],
   "source": [
    "mydb = mysql.connector.connect(\n",
    "    host=\"localhost\",\n",
    "    user=\"root\",\n",
    "    passwd=\"123password\",\n",
    "    database=\"testdb\"\n",
    ")\n",
    "mycursor = mydb.cursor()"
   ]
  },
  {
   "attachments": {},
   "cell_type": "markdown",
   "metadata": {},
   "source": [
    "### 1. Criar o banco"
   ]
  },
  {
   "cell_type": "code",
   "execution_count": 3,
   "metadata": {},
   "outputs": [],
   "source": [
    "mycursor.execute(\"CREATE DATABASE testdb\")"
   ]
  },
  {
   "cell_type": "code",
   "execution_count": 4,
   "metadata": {},
   "outputs": [
    {
     "name": "stdout",
     "output_type": "stream",
     "text": [
      "('information_schema',)\n",
      "('mysql',)\n",
      "('performance_schema',)\n",
      "('sys',)\n",
      "('testdb',)\n"
     ]
    }
   ],
   "source": [
    "mycursor.execute(\"SHOW DATABASES\")\n",
    "for db in mycursor:\n",
    "    print(db)"
   ]
  },
  {
   "attachments": {},
   "cell_type": "markdown",
   "metadata": {},
   "source": [
    "### 2. Criar uma tabela"
   ]
  },
  {
   "cell_type": "code",
   "execution_count": 6,
   "metadata": {},
   "outputs": [
    {
     "name": "stdout",
     "output_type": "stream",
     "text": [
      "('students',)\n"
     ]
    }
   ],
   "source": [
    "mycursor.execute(\"CREATE TABLE students (name VARCHAR(255), age INTEGER(10))\")\n",
    "mycursor.execute(\"SHOW TABLES\")\n",
    "for tb in mycursor:\n",
    "    print(tb)"
   ]
  },
  {
   "attachments": {},
   "cell_type": "markdown",
   "metadata": {},
   "source": [
    "### 3. Popular a tabela"
   ]
  },
  {
   "cell_type": "code",
   "execution_count": 18,
   "metadata": {},
   "outputs": [],
   "source": [
    "sql_formula = \"INSERT INTO students (name, age) VALUES (%s, %s)\"\n",
    "student1 = (\"Rachel\", 22)\n",
    "\n",
    "mycursor.execute(sql_formula, student1)\n",
    "# Save the changes\n",
    "mydb.commit()"
   ]
  },
  {
   "cell_type": "code",
   "execution_count": 8,
   "metadata": {},
   "outputs": [],
   "source": [
    "students = [(\"Bob\", 12),\n",
    "            (\"Amanda\", 32),\n",
    "            (\"Jacob\", 28),\n",
    "            (\"Michelle\", 17),\n",
    "            (\"Mike\", 17)\n",
    "]\n",
    "mycursor.executemany(sql_formula, students)\n",
    "# Save the changes\n",
    "mydb.commit()"
   ]
  },
  {
   "attachments": {},
   "cell_type": "markdown",
   "metadata": {},
   "source": [
    "### 4. Selecionando dados"
   ]
  },
  {
   "cell_type": "code",
   "execution_count": 9,
   "metadata": {},
   "outputs": [
    {
     "name": "stdout",
     "output_type": "stream",
     "text": [
      "('Rachel', 22)\n",
      "('Bob', 12)\n",
      "('Amanda', 32)\n",
      "('Jacob', 28)\n",
      "('Michelle', 17)\n"
     ]
    }
   ],
   "source": [
    "mycursor.execute(\"SELECT * FROM students\")\n",
    "myresult = mycursor.fetchall()\n",
    "\n",
    "for row in myresult:\n",
    "    print(row)"
   ]
  },
  {
   "cell_type": "code",
   "execution_count": 10,
   "metadata": {},
   "outputs": [
    {
     "name": "stdout",
     "output_type": "stream",
     "text": [
      "(22,)\n",
      "(12,)\n",
      "(32,)\n",
      "(28,)\n",
      "(17,)\n"
     ]
    }
   ],
   "source": [
    "mycursor.execute(\"SELECT age FROM students\")\n",
    "myresult = mycursor.fetchall()\n",
    "\n",
    "for row in myresult:\n",
    "    print(row)"
   ]
  },
  {
   "cell_type": "code",
   "execution_count": 11,
   "metadata": {},
   "outputs": [
    {
     "name": "stdout",
     "output_type": "stream",
     "text": [
      "Rachel\n",
      "22\n"
     ]
    }
   ],
   "source": [
    "mycursor.execute(\"SELECT * FROM students\")\n",
    "myresult = mycursor.fetchone()\n",
    "\n",
    "for row in myresult:\n",
    "    print(row)"
   ]
  },
  {
   "cell_type": "code",
   "execution_count": 35,
   "metadata": {},
   "outputs": [
    {
     "name": "stdout",
     "output_type": "stream",
     "text": [
      "('Amanda', 32)\n",
      "('Jacob', 28)\n",
      "('Rachel', 22)\n",
      "('Michelle', 17)\n",
      "('Mike', 17)\n",
      "('Bob', 12)\n"
     ]
    }
   ],
   "source": [
    "mycursor.execute(\"SELECT * FROM students ORDER BY age DESC\")\n",
    "myresult = mycursor.fetchall()\n",
    "\n",
    "for row in myresult:\n",
    "    print(row)"
   ]
  },
  {
   "attachments": {},
   "cell_type": "markdown",
   "metadata": {},
   "source": [
    "### 5. Usando o comando `WHERE`"
   ]
  },
  {
   "cell_type": "code",
   "execution_count": 19,
   "metadata": {},
   "outputs": [
    {
     "name": "stdout",
     "output_type": "stream",
     "text": [
      "('Michelle', 17)\n",
      "('Mike', 17)\n"
     ]
    }
   ],
   "source": [
    "query = \"SELECT * FROM students WHERE age=17\"\n",
    "mycursor.execute(query)\n",
    "myresult = mycursor.fetchall()\n",
    "\n",
    "for result in myresult:\n",
    "    print(result)"
   ]
  },
  {
   "cell_type": "code",
   "execution_count": 30,
   "metadata": {},
   "outputs": [
    {
     "name": "stdout",
     "output_type": "stream",
     "text": [
      "('Mike', 17)\n"
     ]
    }
   ],
   "source": [
    "query = \"SELECT * FROM students WHERE name LIKE %s\"\n",
    "mycursor.execute(query, (\"Mike\", ))\n",
    "\n",
    "myresult = mycursor.fetchall()\n",
    "\n",
    "for result in myresult:\n",
    "    print(result)"
   ]
  },
  {
   "attachments": {},
   "cell_type": "markdown",
   "metadata": {},
   "source": [
    "### 6. Atualizando valores e como limita-los"
   ]
  },
  {
   "cell_type": "code",
   "execution_count": 36,
   "metadata": {},
   "outputs": [],
   "source": [
    "query = \"UPDATE students SET age = 13 WHERE name = 'Bob'\"\n",
    "mycursor.execute(query)\n",
    "mydb.commit()"
   ]
  },
  {
   "cell_type": "code",
   "execution_count": 37,
   "metadata": {},
   "outputs": [
    {
     "name": "stdout",
     "output_type": "stream",
     "text": [
      "('Rachel', 22)\n",
      "('Bob', 13)\n",
      "('Amanda', 32)\n"
     ]
    }
   ],
   "source": [
    "mycursor.execute(\"SELECT * FROM students LIMIT 3\")\n",
    "myresult = mycursor.fetchall()\n",
    "\n",
    "for result in myresult:\n",
    "    print(result)"
   ]
  },
  {
   "cell_type": "code",
   "execution_count": 38,
   "metadata": {},
   "outputs": [
    {
     "name": "stdout",
     "output_type": "stream",
     "text": [
      "('Amanda', 32)\n",
      "('Jacob', 28)\n",
      "('Michelle', 17)\n"
     ]
    }
   ],
   "source": [
    "mycursor.execute(\"SELECT * FROM students LIMIT 3 OFFSET 2\")\n",
    "myresult = mycursor.fetchall()\n",
    "\n",
    "for result in myresult:\n",
    "    print(result)"
   ]
  },
  {
   "attachments": {},
   "cell_type": "markdown",
   "metadata": {},
   "source": [
    "### 7. Deletar um valor e remover uma tabela"
   ]
  },
  {
   "cell_type": "code",
   "execution_count": 39,
   "metadata": {},
   "outputs": [],
   "source": [
    "query = \"DELETE FROM students WHERE name = 'Mike'\"\n",
    "mycursor.execute(query)\n",
    "mydb.commit()"
   ]
  },
  {
   "cell_type": "code",
   "execution_count": 3,
   "metadata": {},
   "outputs": [],
   "source": [
    "query = \"DROP TABLE IF EXISTS students\"\n",
    "mycursor.execute(query)\n",
    "mydb.commit()"
   ]
  },
  {
   "attachments": {},
   "cell_type": "markdown",
   "metadata": {},
   "source": [
    "## Referencia\n",
    "- [Python and MySQL: Database Manipulation with Python](https://www.youtube.com/playlist?list=PLB5jA40tNf3tRMbTpBA0N7lfDZNLZAa9G)"
   ]
  },
  {
   "attachments": {},
   "cell_type": "markdown",
   "metadata": {},
   "source": []
  }
 ],
 "metadata": {
  "kernelspec": {
   "display_name": "Python 3",
   "language": "python",
   "name": "python3"
  },
  "language_info": {
   "codemirror_mode": {
    "name": "ipython",
    "version": 3
   },
   "file_extension": ".py",
   "mimetype": "text/x-python",
   "name": "python",
   "nbconvert_exporter": "python",
   "pygments_lexer": "ipython3",
   "version": "3.10.10"
  },
  "orig_nbformat": 4
 },
 "nbformat": 4,
 "nbformat_minor": 2
}
